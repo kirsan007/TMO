{
 "cells": [
  {
   "cell_type": "markdown",
   "metadata": {},
   "source": [
    "# РК ИУ5-61Б Пахомкин Кирсан"
   ]
  },
  {
   "cell_type": "markdown",
   "metadata": {},
   "source": [
    "### Импорт библиотек"
   ]
  },
  {
   "cell_type": "code",
   "execution_count": 1,
   "metadata": {},
   "outputs": [],
   "source": [
    "import numpy as np\n",
    "import pandas as pd\n",
    "import seaborn as sns\n",
    "import matplotlib.pyplot as plt\n",
    "from pandas.plotting import scatter_matrix\n",
    "import warnings\n",
    "warnings.filterwarnings('ignore')\n",
    "sns.set(style=\"ticks\")\n",
    "%matplotlib inline\n",
    "from sklearn.model_selection import train_test_split\n",
    "from sklearn.preprocessing import LabelEncoder"
   ]
  },
  {
   "cell_type": "code",
   "execution_count": 2,
   "metadata": {},
   "outputs": [],
   "source": [
    "data = pd.read_csv('states_all_extended.csv')"
   ]
  },
  {
   "cell_type": "code",
   "execution_count": 3,
   "metadata": {},
   "outputs": [
    {
     "data": {
      "text/html": [
       "<div>\n",
       "<style scoped>\n",
       "    .dataframe tbody tr th:only-of-type {\n",
       "        vertical-align: middle;\n",
       "    }\n",
       "\n",
       "    .dataframe tbody tr th {\n",
       "        vertical-align: top;\n",
       "    }\n",
       "\n",
       "    .dataframe thead th {\n",
       "        text-align: right;\n",
       "    }\n",
       "</style>\n",
       "<table border=\"1\" class=\"dataframe\">\n",
       "  <thead>\n",
       "    <tr style=\"text-align: right;\">\n",
       "      <th></th>\n",
       "      <th>PRIMARY_KEY</th>\n",
       "      <th>STATE</th>\n",
       "      <th>YEAR</th>\n",
       "      <th>ENROLL</th>\n",
       "      <th>TOTAL_REVENUE</th>\n",
       "      <th>FEDERAL_REVENUE</th>\n",
       "      <th>STATE_REVENUE</th>\n",
       "      <th>LOCAL_REVENUE</th>\n",
       "      <th>TOTAL_EXPENDITURE</th>\n",
       "      <th>INSTRUCTION_EXPENDITURE</th>\n",
       "      <th>...</th>\n",
       "      <th>G08_HI_A_READING</th>\n",
       "      <th>G08_HI_A_MATHEMATICS</th>\n",
       "      <th>G08_AS_A_READING</th>\n",
       "      <th>G08_AS_A_MATHEMATICS</th>\n",
       "      <th>G08_AM_A_READING</th>\n",
       "      <th>G08_AM_A_MATHEMATICS</th>\n",
       "      <th>G08_HP_A_READING</th>\n",
       "      <th>G08_HP_A_MATHEMATICS</th>\n",
       "      <th>G08_TR_A_READING</th>\n",
       "      <th>G08_TR_A_MATHEMATICS</th>\n",
       "    </tr>\n",
       "  </thead>\n",
       "  <tbody>\n",
       "    <tr>\n",
       "      <th>0</th>\n",
       "      <td>1992_ALABAMA</td>\n",
       "      <td>ALABAMA</td>\n",
       "      <td>1992</td>\n",
       "      <td>NaN</td>\n",
       "      <td>2678885.0</td>\n",
       "      <td>304177.0</td>\n",
       "      <td>1659028.0</td>\n",
       "      <td>715680.0</td>\n",
       "      <td>2653798.0</td>\n",
       "      <td>1481703.0</td>\n",
       "      <td>...</td>\n",
       "      <td>NaN</td>\n",
       "      <td>NaN</td>\n",
       "      <td>NaN</td>\n",
       "      <td>NaN</td>\n",
       "      <td>NaN</td>\n",
       "      <td>NaN</td>\n",
       "      <td>NaN</td>\n",
       "      <td>NaN</td>\n",
       "      <td>NaN</td>\n",
       "      <td>NaN</td>\n",
       "    </tr>\n",
       "    <tr>\n",
       "      <th>1</th>\n",
       "      <td>1992_ALASKA</td>\n",
       "      <td>ALASKA</td>\n",
       "      <td>1992</td>\n",
       "      <td>NaN</td>\n",
       "      <td>1049591.0</td>\n",
       "      <td>106780.0</td>\n",
       "      <td>720711.0</td>\n",
       "      <td>222100.0</td>\n",
       "      <td>972488.0</td>\n",
       "      <td>498362.0</td>\n",
       "      <td>...</td>\n",
       "      <td>NaN</td>\n",
       "      <td>NaN</td>\n",
       "      <td>NaN</td>\n",
       "      <td>NaN</td>\n",
       "      <td>NaN</td>\n",
       "      <td>NaN</td>\n",
       "      <td>NaN</td>\n",
       "      <td>NaN</td>\n",
       "      <td>NaN</td>\n",
       "      <td>NaN</td>\n",
       "    </tr>\n",
       "    <tr>\n",
       "      <th>2</th>\n",
       "      <td>1992_ARIZONA</td>\n",
       "      <td>ARIZONA</td>\n",
       "      <td>1992</td>\n",
       "      <td>NaN</td>\n",
       "      <td>3258079.0</td>\n",
       "      <td>297888.0</td>\n",
       "      <td>1369815.0</td>\n",
       "      <td>1590376.0</td>\n",
       "      <td>3401580.0</td>\n",
       "      <td>1435908.0</td>\n",
       "      <td>...</td>\n",
       "      <td>NaN</td>\n",
       "      <td>NaN</td>\n",
       "      <td>NaN</td>\n",
       "      <td>NaN</td>\n",
       "      <td>NaN</td>\n",
       "      <td>NaN</td>\n",
       "      <td>NaN</td>\n",
       "      <td>NaN</td>\n",
       "      <td>NaN</td>\n",
       "      <td>NaN</td>\n",
       "    </tr>\n",
       "    <tr>\n",
       "      <th>3</th>\n",
       "      <td>1992_ARKANSAS</td>\n",
       "      <td>ARKANSAS</td>\n",
       "      <td>1992</td>\n",
       "      <td>NaN</td>\n",
       "      <td>1711959.0</td>\n",
       "      <td>178571.0</td>\n",
       "      <td>958785.0</td>\n",
       "      <td>574603.0</td>\n",
       "      <td>1743022.0</td>\n",
       "      <td>964323.0</td>\n",
       "      <td>...</td>\n",
       "      <td>NaN</td>\n",
       "      <td>NaN</td>\n",
       "      <td>NaN</td>\n",
       "      <td>NaN</td>\n",
       "      <td>NaN</td>\n",
       "      <td>NaN</td>\n",
       "      <td>NaN</td>\n",
       "      <td>NaN</td>\n",
       "      <td>NaN</td>\n",
       "      <td>NaN</td>\n",
       "    </tr>\n",
       "    <tr>\n",
       "      <th>4</th>\n",
       "      <td>1992_CALIFORNIA</td>\n",
       "      <td>CALIFORNIA</td>\n",
       "      <td>1992</td>\n",
       "      <td>NaN</td>\n",
       "      <td>26260025.0</td>\n",
       "      <td>2072470.0</td>\n",
       "      <td>16546514.0</td>\n",
       "      <td>7641041.0</td>\n",
       "      <td>27138832.0</td>\n",
       "      <td>14358922.0</td>\n",
       "      <td>...</td>\n",
       "      <td>NaN</td>\n",
       "      <td>NaN</td>\n",
       "      <td>NaN</td>\n",
       "      <td>NaN</td>\n",
       "      <td>NaN</td>\n",
       "      <td>NaN</td>\n",
       "      <td>NaN</td>\n",
       "      <td>NaN</td>\n",
       "      <td>NaN</td>\n",
       "      <td>NaN</td>\n",
       "    </tr>\n",
       "  </tbody>\n",
       "</table>\n",
       "<p>5 rows × 266 columns</p>\n",
       "</div>"
      ],
      "text/plain": [
       "       PRIMARY_KEY       STATE  YEAR  ENROLL  TOTAL_REVENUE  FEDERAL_REVENUE  \\\n",
       "0     1992_ALABAMA     ALABAMA  1992     NaN      2678885.0         304177.0   \n",
       "1      1992_ALASKA      ALASKA  1992     NaN      1049591.0         106780.0   \n",
       "2     1992_ARIZONA     ARIZONA  1992     NaN      3258079.0         297888.0   \n",
       "3    1992_ARKANSAS    ARKANSAS  1992     NaN      1711959.0         178571.0   \n",
       "4  1992_CALIFORNIA  CALIFORNIA  1992     NaN     26260025.0        2072470.0   \n",
       "\n",
       "   STATE_REVENUE  LOCAL_REVENUE  TOTAL_EXPENDITURE  INSTRUCTION_EXPENDITURE  \\\n",
       "0      1659028.0       715680.0          2653798.0                1481703.0   \n",
       "1       720711.0       222100.0           972488.0                 498362.0   \n",
       "2      1369815.0      1590376.0          3401580.0                1435908.0   \n",
       "3       958785.0       574603.0          1743022.0                 964323.0   \n",
       "4     16546514.0      7641041.0         27138832.0               14358922.0   \n",
       "\n",
       "   ...  G08_HI_A_READING  G08_HI_A_MATHEMATICS  G08_AS_A_READING  \\\n",
       "0  ...               NaN                   NaN               NaN   \n",
       "1  ...               NaN                   NaN               NaN   \n",
       "2  ...               NaN                   NaN               NaN   \n",
       "3  ...               NaN                   NaN               NaN   \n",
       "4  ...               NaN                   NaN               NaN   \n",
       "\n",
       "   G08_AS_A_MATHEMATICS  G08_AM_A_READING  G08_AM_A_MATHEMATICS  \\\n",
       "0                   NaN               NaN                   NaN   \n",
       "1                   NaN               NaN                   NaN   \n",
       "2                   NaN               NaN                   NaN   \n",
       "3                   NaN               NaN                   NaN   \n",
       "4                   NaN               NaN                   NaN   \n",
       "\n",
       "   G08_HP_A_READING  G08_HP_A_MATHEMATICS  G08_TR_A_READING  \\\n",
       "0               NaN                   NaN               NaN   \n",
       "1               NaN                   NaN               NaN   \n",
       "2               NaN                   NaN               NaN   \n",
       "3               NaN                   NaN               NaN   \n",
       "4               NaN                   NaN               NaN   \n",
       "\n",
       "   G08_TR_A_MATHEMATICS  \n",
       "0                   NaN  \n",
       "1                   NaN  \n",
       "2                   NaN  \n",
       "3                   NaN  \n",
       "4                   NaN  \n",
       "\n",
       "[5 rows x 266 columns]"
      ]
     },
     "execution_count": 3,
     "metadata": {},
     "output_type": "execute_result"
    }
   ],
   "source": [
    "data.head()"
   ]
  },
  {
   "cell_type": "code",
   "execution_count": 4,
   "metadata": {},
   "outputs": [],
   "source": [
    "parts = np.split(data, [10], axis=1)\n",
    "data = parts[0]"
   ]
  },
  {
   "cell_type": "code",
   "execution_count": 5,
   "metadata": {},
   "outputs": [
    {
     "data": {
      "text/plain": [
       "PRIMARY_KEY                object\n",
       "STATE                      object\n",
       "YEAR                       object\n",
       "ENROLL                     object\n",
       "TOTAL_REVENUE              object\n",
       "FEDERAL_REVENUE            object\n",
       "STATE_REVENUE              object\n",
       "LOCAL_REVENUE              object\n",
       "TOTAL_EXPENDITURE          object\n",
       "INSTRUCTION_EXPENDITURE    object\n",
       "dtype: object"
      ]
     },
     "execution_count": 5,
     "metadata": {},
     "output_type": "execute_result"
    }
   ],
   "source": [
    "data.dtypes"
   ]
  },
  {
   "cell_type": "code",
   "execution_count": 6,
   "metadata": {},
   "outputs": [],
   "source": [
    "data.drop(['ENROLL','PRIMARY_KEY'], axis = 1, inplace = True)"
   ]
  },
  {
   "cell_type": "code",
   "execution_count": 7,
   "metadata": {},
   "outputs": [],
   "source": [
    "le = LabelEncoder()\n",
    "le.fit(data.STATE.drop_duplicates()) \n",
    "data.STATE = le.transform(data.STATE)"
   ]
  },
  {
   "cell_type": "code",
   "execution_count": 8,
   "metadata": {},
   "outputs": [],
   "source": [
    "data['YEAR'] = data['YEAR'].replace(0,np.nan)\n",
    "data['YEAR'] = data['YEAR'].fillna(data['YEAR'].mean())\n",
    "data['TOTAL_REVENUE'] = data['TOTAL_REVENUE'].replace(0,np.nan)\n",
    "data['TOTAL_REVENUE'] = data['TOTAL_REVENUE'].fillna(data['TOTAL_REVENUE'].mean())\n",
    "data['FEDERAL_REVENUE'] = data['FEDERAL_REVENUE'].replace(0,np.nan)\n",
    "data['FEDERAL_REVENUE'] = data['FEDERAL_REVENUE'].fillna(data['FEDERAL_REVENUE'].mean())\n",
    "data['STATE_REVENUE'] = data['STATE_REVENUE'].replace(0,np.nan)\n",
    "data['STATE_REVENUE'] = data['STATE_REVENUE'].fillna(data['STATE_REVENUE'].mean())\n",
    "data['LOCAL_REVENUE'] = data['LOCAL_REVENUE'].replace(0,np.nan)\n",
    "data['LOCAL_REVENUE'] = data['LOCAL_REVENUE'].fillna(data['LOCAL_REVENUE'].mean())\n",
    "data['TOTAL_EXPENDITURE'] = data['TOTAL_EXPENDITURE'].replace(0,np.nan)\n",
    "data['TOTAL_EXPENDITURE'] = data['TOTAL_EXPENDITURE'].fillna(data['TOTAL_EXPENDITURE'].mean())\n",
    "data['TOTAL_REVENUE'] = data['TOTAL_REVENUE'].replace(0,np.nan)\n",
    "data['INSTRUCTION_EXPENDITURE'] = data['INSTRUCTION_EXPENDITURE'].fillna(data['INSTRUCTION_EXPENDITURE'].mean())"
   ]
  },
  {
   "cell_type": "code",
   "execution_count": 9,
   "metadata": {},
   "outputs": [
    {
     "data": {
      "text/plain": [
       "STATE                      0\n",
       "YEAR                       0\n",
       "TOTAL_REVENUE              0\n",
       "FEDERAL_REVENUE            0\n",
       "STATE_REVENUE              0\n",
       "LOCAL_REVENUE              0\n",
       "TOTAL_EXPENDITURE          0\n",
       "INSTRUCTION_EXPENDITURE    0\n",
       "dtype: int64"
      ]
     },
     "execution_count": 9,
     "metadata": {},
     "output_type": "execute_result"
    }
   ],
   "source": [
    "data.isnull().sum()\n",
    "# проверим есть ли пропущенные значения"
   ]
  },
  {
   "cell_type": "code",
   "execution_count": 10,
   "metadata": {},
   "outputs": [
    {
     "name": "stdout",
     "output_type": "stream",
     "text": [
      "<class 'pandas.core.frame.DataFrame'>\n",
      "RangeIndex: 1715 entries, 0 to 1714\n",
      "Data columns (total 8 columns):\n",
      " #   Column                   Non-Null Count  Dtype  \n",
      "---  ------                   --------------  -----  \n",
      " 0   STATE                    1715 non-null   int64  \n",
      " 1   YEAR                     1715 non-null   int64  \n",
      " 2   TOTAL_REVENUE            1715 non-null   float64\n",
      " 3   FEDERAL_REVENUE          1715 non-null   float64\n",
      " 4   STATE_REVENUE            1715 non-null   float64\n",
      " 5   LOCAL_REVENUE            1715 non-null   float64\n",
      " 6   TOTAL_EXPENDITURE        1715 non-null   float64\n",
      " 7   INSTRUCTION_EXPENDITURE  1715 non-null   float64\n",
      "dtypes: float64(6), int64(2)\n",
      "memory usage: 107.3 KB\n"
     ]
    }
   ],
   "source": [
    "data.info()"
   ]
  },
  {
   "cell_type": "code",
   "execution_count": 11,
   "metadata": {},
   "outputs": [
    {
     "data": {
      "text/html": [
       "<div>\n",
       "<style scoped>\n",
       "    .dataframe tbody tr th:only-of-type {\n",
       "        vertical-align: middle;\n",
       "    }\n",
       "\n",
       "    .dataframe tbody tr th {\n",
       "        vertical-align: top;\n",
       "    }\n",
       "\n",
       "    .dataframe thead th {\n",
       "        text-align: right;\n",
       "    }\n",
       "</style>\n",
       "<table border=\"1\" class=\"dataframe\">\n",
       "  <thead>\n",
       "    <tr style=\"text-align: right;\">\n",
       "      <th></th>\n",
       "      <th>STATE</th>\n",
       "      <th>YEAR</th>\n",
       "      <th>TOTAL_REVENUE</th>\n",
       "      <th>FEDERAL_REVENUE</th>\n",
       "      <th>STATE_REVENUE</th>\n",
       "      <th>LOCAL_REVENUE</th>\n",
       "      <th>TOTAL_EXPENDITURE</th>\n",
       "      <th>INSTRUCTION_EXPENDITURE</th>\n",
       "    </tr>\n",
       "  </thead>\n",
       "  <tbody>\n",
       "    <tr>\n",
       "      <th>0</th>\n",
       "      <td>0</td>\n",
       "      <td>1992</td>\n",
       "      <td>2678885.0</td>\n",
       "      <td>304177.0</td>\n",
       "      <td>1659028.0</td>\n",
       "      <td>715680.0</td>\n",
       "      <td>2653798.0</td>\n",
       "      <td>1481703.0</td>\n",
       "    </tr>\n",
       "    <tr>\n",
       "      <th>1</th>\n",
       "      <td>1</td>\n",
       "      <td>1992</td>\n",
       "      <td>1049591.0</td>\n",
       "      <td>106780.0</td>\n",
       "      <td>720711.0</td>\n",
       "      <td>222100.0</td>\n",
       "      <td>972488.0</td>\n",
       "      <td>498362.0</td>\n",
       "    </tr>\n",
       "    <tr>\n",
       "      <th>2</th>\n",
       "      <td>2</td>\n",
       "      <td>1992</td>\n",
       "      <td>3258079.0</td>\n",
       "      <td>297888.0</td>\n",
       "      <td>1369815.0</td>\n",
       "      <td>1590376.0</td>\n",
       "      <td>3401580.0</td>\n",
       "      <td>1435908.0</td>\n",
       "    </tr>\n",
       "    <tr>\n",
       "      <th>3</th>\n",
       "      <td>3</td>\n",
       "      <td>1992</td>\n",
       "      <td>1711959.0</td>\n",
       "      <td>178571.0</td>\n",
       "      <td>958785.0</td>\n",
       "      <td>574603.0</td>\n",
       "      <td>1743022.0</td>\n",
       "      <td>964323.0</td>\n",
       "    </tr>\n",
       "    <tr>\n",
       "      <th>4</th>\n",
       "      <td>4</td>\n",
       "      <td>1992</td>\n",
       "      <td>26260025.0</td>\n",
       "      <td>2072470.0</td>\n",
       "      <td>16546514.0</td>\n",
       "      <td>7641041.0</td>\n",
       "      <td>27138832.0</td>\n",
       "      <td>14358922.0</td>\n",
       "    </tr>\n",
       "  </tbody>\n",
       "</table>\n",
       "</div>"
      ],
      "text/plain": [
       "   STATE  YEAR  TOTAL_REVENUE  FEDERAL_REVENUE  STATE_REVENUE  LOCAL_REVENUE  \\\n",
       "0      0  1992      2678885.0         304177.0      1659028.0       715680.0   \n",
       "1      1  1992      1049591.0         106780.0       720711.0       222100.0   \n",
       "2      2  1992      3258079.0         297888.0      1369815.0      1590376.0   \n",
       "3      3  1992      1711959.0         178571.0       958785.0       574603.0   \n",
       "4      4  1992     26260025.0        2072470.0     16546514.0      7641041.0   \n",
       "\n",
       "   TOTAL_EXPENDITURE  INSTRUCTION_EXPENDITURE  \n",
       "0          2653798.0                1481703.0  \n",
       "1           972488.0                 498362.0  \n",
       "2          3401580.0                1435908.0  \n",
       "3          1743022.0                 964323.0  \n",
       "4         27138832.0               14358922.0  "
      ]
     },
     "execution_count": 11,
     "metadata": {},
     "output_type": "execute_result"
    }
   ],
   "source": [
    "data.head()"
   ]
  },
  {
   "cell_type": "code",
   "execution_count": 12,
   "metadata": {},
   "outputs": [
    {
     "data": {
      "text/plain": [
       "<AxesSubplot:>"
      ]
     },
     "execution_count": 12,
     "metadata": {},
     "output_type": "execute_result"
    },
    {
     "data": {
      "image/png": "[encoded data removed]",
      "text/plain": [
       "<Figure size 1080x504 with 2 Axes>"
      ]
     },
     "metadata": {
      "needs_background": "light"
     },
     "output_type": "display_data"
    }
   ],
   "source": [
    "#Построим корреляционную матрицу\n",
    "fig, ax = plt.subplots(figsize=(15,7))\n",
    "sns.heatmap(data.corr(method='pearson'), ax=ax, annot=True, fmt='.2f')"
   ]
  },
  {
   "cell_type": "code",
   "execution_count": 13,
   "metadata": {},
   "outputs": [
    {
     "name": "stdout",
     "output_type": "stream",
     "text": [
      "Входные данные:\n",
      "\n",
      "    STATE  YEAR  TOTAL_REVENUE  FEDERAL_REVENUE  STATE_REVENUE  LOCAL_REVENUE  \\\n",
      "0      0  1992      2678885.0         304177.0      1659028.0       715680.0   \n",
      "1      1  1992      1049591.0         106780.0       720711.0       222100.0   \n",
      "2      2  1992      3258079.0         297888.0      1369815.0      1590376.0   \n",
      "3      3  1992      1711959.0         178571.0       958785.0       574603.0   \n",
      "4      4  1992     26260025.0        2072470.0     16546514.0      7641041.0   \n",
      "\n",
      "   INSTRUCTION_EXPENDITURE  \n",
      "0                1481703.0  \n",
      "1                 498362.0  \n",
      "2                1435908.0  \n",
      "3                 964323.0  \n",
      "4               14358922.0   \n",
      "\n",
      "Выходные данные:\n",
      "\n",
      " 0     2653798.0\n",
      "1      972488.0\n",
      "2     3401580.0\n",
      "3     1743022.0\n",
      "4    27138832.0\n",
      "Name: TOTAL_EXPENDITURE, dtype: float64\n"
     ]
    }
   ],
   "source": [
    "X = data.drop(['TOTAL_EXPENDITURE'], axis = 1)\n",
    "Y = data.TOTAL_EXPENDITURE\n",
    "print('Входные данные:\\n\\n', X.head(), '\\n\\nВыходные данные:\\n\\n', Y.head())"
   ]
  },
  {
   "cell_type": "code",
   "execution_count": 14,
   "metadata": {},
   "outputs": [
    {
     "name": "stdout",
     "output_type": "stream",
     "text": [
      "Входные параметры обучающей выборки:\n",
      "\n",
      "       STATE  YEAR  TOTAL_REVENUE  FEDERAL_REVENUE  STATE_REVENUE  \\\n",
      "82       33  1993   1.217194e+06    154018.000000   8.977250e+05   \n",
      "1579     45  1989   9.102045e+06    767779.864314   4.308218e+06   \n",
      "1544     40  1989   9.102045e+06    767779.864314   4.308218e+06   \n",
      "1323      6  2017   9.102045e+06    767779.864314   4.308218e+06   \n",
      "249      47  1996   9.652380e+05     36693.000000   2.156570e+05   \n",
      "\n",
      "      LOCAL_REVENUE  INSTRUCTION_EXPENDITURE  \n",
      "82     1.654510e+05             5.877530e+05  \n",
      "1579   4.110522e+06             4.768010e+06  \n",
      "1544   4.110522e+06             4.768010e+06  \n",
      "1323   4.110522e+06             4.768010e+06  \n",
      "249    7.128880e+05             4.245620e+05   \n",
      "\n",
      "Входные параметры тестовой выборки:\n",
      "\n",
      "       STATE  YEAR  TOTAL_REVENUE  FEDERAL_REVENUE  STATE_REVENUE  \\\n",
      "1101     32  2013   2.807010e+07     1.145079e+06   1.098613e+07   \n",
      "6         6  1992   3.834302e+06     1.435420e+05   1.342539e+06   \n",
      "746      34  2006   4.701879e+07     3.340216e+06   2.018352e+07   \n",
      "1320      6  1989   9.102045e+06     7.677799e+05   4.308218e+06   \n",
      "473      15  2001   9.124748e+06     4.448610e+05   4.590018e+06   \n",
      "\n",
      "      LOCAL_REVENUE  INSTRUCTION_EXPENDITURE  \n",
      "1101   1.593888e+07             1.548994e+07  \n",
      "6      2.348221e+06             2.148041e+06  \n",
      "746    2.349506e+07             2.958952e+07  \n",
      "1320   4.110522e+06             4.768010e+06  \n",
      "473    4.089869e+06             4.364661e+06   \n",
      "\n",
      "Выходные параметры обучающей выборки:\n",
      "\n",
      " 82      1.223185e+06\n",
      "1579    9.206242e+06\n",
      "1544    9.206242e+06\n",
      "1323    9.206242e+06\n",
      "249     9.758170e+05\n",
      "Name: TOTAL_EXPENDITURE, dtype: float64 \n",
      "\n",
      "Выходные параметры тестовой выборки:\n",
      "\n",
      " 1101    2.817990e+07\n",
      "6       3.721338e+06\n",
      "746     4.835977e+07\n",
      "1320    9.206242e+06\n",
      "473     8.991877e+06\n",
      "Name: TOTAL_EXPENDITURE, dtype: float64\n"
     ]
    }
   ],
   "source": [
    "X_train,  X_test,  Y_train,  Y_test = train_test_split(X,  Y, random_state = 0, test_size = 0.1)\n",
    "print('Входные параметры обучающей выборки:\\n\\n',X_train.head(), \\\n",
    "      '\\n\\nВходные параметры тестовой выборки:\\n\\n', X_test.head(), \\\n",
    "      '\\n\\nВыходные параметры обучающей выборки:\\n\\n', Y_train.head(), \\\n",
    "      '\\n\\nВыходные параметры тестовой выборки:\\n\\n', Y_test.head())"
   ]
  },
  {
   "cell_type": "code",
   "execution_count": 15,
   "metadata": {},
   "outputs": [],
   "source": [
    "from sklearn.linear_model import LinearRegression\n",
    "from sklearn.metrics import mean_absolute_error, mean_squared_error,  median_absolute_error, r2_score "
   ]
  },
  {
   "cell_type": "code",
   "execution_count": 16,
   "metadata": {},
   "outputs": [],
   "source": [
    "Lin_Reg = LinearRegression().fit(X_train, Y_train)\n",
    "\n",
    "lr_y_pred = Lin_Reg.predict(X_test)"
   ]
  },
  {
   "cell_type": "code",
   "execution_count": 17,
   "metadata": {},
   "outputs": [
    {
     "data": {
      "image/png": "[encoded data removed]",
      "text/plain": [
       "<Figure size 432x288 with 1 Axes>"
      ]
     },
     "metadata": {
      "needs_background": "light"
     },
     "output_type": "display_data"
    }
   ],
   "source": [
    "plt.scatter(X_test.YEAR, Y_test,    marker = 's', label = 'Тестовая выборка')\n",
    "plt.scatter(X_test.YEAR, lr_y_pred, marker = '.', label = 'Предсказанные данные')\n",
    "plt.legend (loc = 'lower right')\n",
    "plt.xlabel ('INSTRUCTION_EXPENDITURE')\n",
    "plt.ylabel ('TOTAL_EXPENDITURE')\n",
    "plt.show()"
   ]
  },
  {
   "cell_type": "code",
   "execution_count": 18,
   "metadata": {},
   "outputs": [],
   "source": [
    "from sklearn.ensemble import RandomForestRegressor"
   ]
  },
  {
   "cell_type": "code",
   "execution_count": 19,
   "metadata": {},
   "outputs": [
    {
     "data": {
      "text/plain": [
       "RandomForestRegressor(n_estimators=5, oob_score=True, random_state=10)"
      ]
     },
     "execution_count": 19,
     "metadata": {},
     "output_type": "execute_result"
    }
   ],
   "source": [
    "forest_1 = RandomForestRegressor(n_estimators=5, oob_score=True, random_state=10)\n",
    "forest_1.fit(X, Y)"
   ]
  },
  {
   "cell_type": "code",
   "execution_count": 20,
   "metadata": {},
   "outputs": [
    {
     "name": "stdout",
     "output_type": "stream",
     "text": [
      "Средняя абсолютная ошибка: 138734.77325582213\n",
      "Средняя квадратичная ошибка: 142889066665.99045\n",
      "Median absolute error: 19317.29999999993\n",
      "Коэффициент детерминации: 0.9990572084607852\n"
     ]
    }
   ],
   "source": [
    "Y_predict = forest_1.predict(X_test)\n",
    "print('Средняя абсолютная ошибка:',   mean_absolute_error(Y_test, Y_predict))\n",
    "print('Средняя квадратичная ошибка:', mean_squared_error(Y_test, Y_predict))\n",
    "print('Median absolute error:',       median_absolute_error(Y_test, Y_predict))\n",
    "print('Коэффициент детерминации:',    r2_score(Y_test, Y_predict))"
   ]
  },
  {
   "cell_type": "code",
   "execution_count": 21,
   "metadata": {},
   "outputs": [
    {
     "data": {
      "image/png": "[encoded data removed]",
      "text/plain": [
       "<Figure size 432x288 with 1 Axes>"
      ]
     },
     "metadata": {
      "needs_background": "light"
     },
     "output_type": "display_data"
    }
   ],
   "source": [
    "plt.scatter(X_test.YEAR, Y_test,    marker = 'o', label = 'Тестовая выборка')\n",
    "plt.scatter(X_test.YEAR, Y_predict, marker = '.', label = 'Предсказанные данные')\n",
    "plt.legend(loc = 'lower right')\n",
    "plt.xlabel('INSTRUCTION_EXPENDITURE')\n",
    "plt.ylabel('INSTRUCTION_EXPENDITURE')\n",
    "plt.show()"
   ]
  }
 ],
 "metadata": {
  "kernelspec": {
   "display_name": "Python 3",
   "language": "python",
   "name": "python3"
  },
  "language_info": {
   "codemirror_mode": {
    "name": "ipython",
    "version": 3
   },
   "file_extension": ".py",
   "mimetype": "text/x-python",
   "name": "python",
   "nbconvert_exporter": "python",
   "pygments_lexer": "ipython3",
   "version": "3.8.5"
  }
 },
 "nbformat": 4,
 "nbformat_minor": 4
}
